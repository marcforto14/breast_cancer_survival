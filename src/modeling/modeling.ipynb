{
 "cells": [
  {
   "cell_type": "code",
   "execution_count": null,
   "metadata": {},
   "outputs": [],
   "source": [
    "import os\n",
    "import pandas as pd\n",
    "import numpy as np\n",
    "import matplotlib.pyplot as plt\n",
    "import seaborn as sns\n",
    "from sklearn.metrics import classification_report, confusion_matrix, recall_score\n",
    "from sklearn.ensemble import RandomForestClassifier"
   ]
  },
  {
   "cell_type": "code",
   "execution_count": null,
   "metadata": {},
   "outputs": [],
   "source": [
    "current_dir = os.getcwd()\n",
    "root_dir = os.path.abspath(os.path.join(current_dir, '..', '..'))\n",
    "data_dir = os.path.join(root_dir, 'data')\n",
    "data_file_path = os.path.join(data_dir, 'breast_cancer_data.csv')\n",
    "\n",
    "df_breast_cancer = pd.read_csv(data_file_path, sep=\",\", header=0)"
   ]
  },
  {
   "cell_type": "markdown",
   "metadata": {},
   "source": [
    "# With Oversampled Dataset"
   ]
  },
  {
   "cell_type": "markdown",
   "metadata": {},
   "source": [
    "## Random Forest Classifier"
   ]
  },
  {
   "cell_type": "code",
   "execution_count": null,
   "metadata": {},
   "outputs": [],
   "source": [
    "# Define a custom metric\n",
    "def custom_metric(y_true, y_pred):\n",
    "    return recall_score(y_true, y_pred, average='weighted')\n",
    "\n",
    "# Define a function to perform the grid search for hyperparameter tuning\n",
    "def tune_random_forest(X_train_best, y_train, n_estimators_list, max_samples_list, max_features_list):\n",
    "    best_f1_score = 0\n",
    "    best_params = {}\n",
    "    np.random.seed(42)\n",
    "    for n_estimators in n_estimators_list:\n",
    "        for max_samples in max_samples_list:\n",
    "            for max_features in max_features_list:\n",
    "                for max_depth in max_depth_list:\n",
    "                    rf_classifier = RandomForestClassifier(\n",
    "                        n_estimators=n_estimators,\n",
    "                        max_samples=max_samples,\n",
    "                        max_features=max_features,\n",
    "                        max_depth=max_depth,\n",
    "                        criterion='entropy',\n",
    "                        class_weight='balanced_subsample',\n",
    "                        random_state=42,\n",
    "                        oob_score=custom_metric\n",
    "                    )\n",
    "\n",
    "                    # Fit the model\n",
    "                    rf_classifier.fit(X_train_best, y_train)\n",
    "                    oob_score = rf_classifier.oob_score_\n",
    "                    \n",
    "                    # Update the best parameters based on F1-weighted score\n",
    "                    if oob_score > best_f1_score:\n",
    "                        best_f1_score = oob_score\n",
    "                        best_params = {\n",
    "                            'n_estimators': n_estimators,\n",
    "                            'max_samples': max_samples,\n",
    "                            'max_features': max_features,\n",
    "                            'max_depth': max_depth,\n",
    "                        }\n",
    "\n",
    "    return best_params, best_f1_score\n",
    "\n",
    "# Hyperparameters ranges to search\n",
    "n_estimators_list = [100, 150]\n",
    "max_samples_list = [0.6, 0.7, 0.8]\n",
    "max_features_list = ['sqrt', 'log2', None]\n",
    "max_depth_list = [10, None]\n",
    "\n",
    "# Tune hyperparameters\n",
    "best_params, best_recall_score = tune_random_forest(X_train_pca_best, y_train_resampled, n_estimators_list, max_samples_list, max_features_list)\n",
    "\n",
    "print(f\"Best parameters: {best_params}\")\n",
    "print(f\"Best F1-weighted score: {best_recall_score}\")"
   ]
  },
  {
   "cell_type": "code",
   "execution_count": null,
   "metadata": {},
   "outputs": [],
   "source": [
    "# Train the final model with the best parameters\n",
    "rf_classifier = RandomForestClassifier(\n",
    "    n_estimators=best_params['n_estimators'],\n",
    "    max_samples=best_params['max_samples'],\n",
    "    max_features=best_params['max_features'],\n",
    "    max_depth=best_params['max_depth'],\n",
    "    random_state=42\n",
    ")\n",
    "\n",
    "rf_classifier.fit(X_train_pca_best, y_train_resampled)\n",
    "\n",
    "y_pred = rf_classifier.predict(X_test_pca_best)\n",
    "\n",
    "reverse_price_mapping = {0: 'Alive', 1: 'Dead'}\n",
    "\n",
    "# Map the predictions and actual values using the reverse mapping\n",
    "y_pred_dec = pd.Series(y_pred).map(reverse_price_mapping)\n",
    "y_test_dec = pd.Series(y_test).map(reverse_price_mapping)\n",
    "\n",
    "# Detailed classification report\n",
    "print(\"Classification Report:\")\n",
    "print(classification_report(y_test_dec, y_pred_dec))"
   ]
  },
  {
   "cell_type": "code",
   "execution_count": null,
   "metadata": {},
   "outputs": [],
   "source": [
    "classes = y_test_dec.unique()\n",
    "\n",
    "# Confusion Matrix\n",
    "conf_matrix = confusion_matrix(y_test_dec, y_pred_dec, labels=classes)\n",
    "\n",
    "plt.figure(figsize=(10, 7))\n",
    "sns.heatmap(conf_matrix, annot=True, fmt='d', cmap='Blues', xticklabels=classes, yticklabels=classes)\n",
    "plt.xlabel('Predicted')\n",
    "plt.ylabel('True')\n",
    "plt.show()"
   ]
  },
  {
   "cell_type": "markdown",
   "metadata": {},
   "source": [
    "# With Original Dataset"
   ]
  },
  {
   "cell_type": "markdown",
   "metadata": {},
   "source": [
    "## Random Forest Classifier"
   ]
  },
  {
   "cell_type": "code",
   "execution_count": null,
   "metadata": {},
   "outputs": [],
   "source": [
    "# Define a function to perform the grid search for hyperparameter tuning\n",
    "def tune_random_forest(X_train_best, y_train, n_estimators_list, max_samples_list, max_features_list):\n",
    "    best_recall_score = 0\n",
    "    best_params = {}\n",
    "    np.random.seed(42)\n",
    "    for n_estimators in n_estimators_list:\n",
    "        for max_samples in max_samples_list:\n",
    "            for max_features in max_features_list:\n",
    "                for max_depth in max_depth_list:\n",
    "                    rf_classifier = RandomForestClassifier(\n",
    "                        n_estimators=n_estimators,\n",
    "                        max_samples=max_samples,\n",
    "                        max_features=max_features,\n",
    "                        max_depth=max_depth,\n",
    "                        criterion='entropy',\n",
    "                        class_weight='balanced_subsample',\n",
    "                        random_state=42,\n",
    "                        oob_score=custom_metric\n",
    "                    )\n",
    "\n",
    "                    # Fit the model\n",
    "                    rf_classifier.fit(X_train_best, y_train, sample_weight=sample_weights)\n",
    "                    oob_score = rf_classifier.oob_score_\n",
    "                    \n",
    "                    # Update the best parameters based on F1-weighted score\n",
    "                    if oob_score > best_recall_score:\n",
    "                        best_recall_score = oob_score\n",
    "                        best_params = {\n",
    "                            'n_estimators': n_estimators,\n",
    "                            'max_samples': max_samples,\n",
    "                            'max_features': max_features,\n",
    "                            'max_depth': max_depth,\n",
    "                        }\n",
    "\n",
    "    return best_params, best_recall_score\n",
    "\n",
    "# Hyperparameters ranges to search\n",
    "n_estimators_list = [100, 150, 200]\n",
    "max_samples_list = [0.6, 0.7, 0.8]\n",
    "max_depth_list = [10, None]\n",
    "max_features_list = ['sqrt', 'log2', None]\n",
    "\n",
    "# Tune hyperparameters\n",
    "best_params, best_f1_score = tune_random_forest(X_train_pca_best, y_train, n_estimators_list, max_samples_list, max_features_list)\n",
    "\n",
    "print(f\"Best parameters: {best_params}\")\n",
    "print(f\"Best Recall-weighted score: {best_f1_score}\")"
   ]
  },
  {
   "cell_type": "code",
   "execution_count": null,
   "metadata": {},
   "outputs": [],
   "source": [
    "# Train the final model with the best parameters\n",
    "rf_classifier = RandomForestClassifier(\n",
    "    n_estimators=best_params['n_estimators'],\n",
    "    max_samples=best_params['max_samples'],\n",
    "    max_features=best_params['max_features'],\n",
    "    max_depth=best_params['max_depth'],\n",
    "    criterion='entropy',\n",
    "    class_weight='balanced_subsample',\n",
    "    random_state=42\n",
    ")\n",
    "\n",
    "rf_classifier.fit(X_train_pca_best, y_train, sample_weight=sample_weights)\n",
    "\n",
    "y_pred = rf_classifier.predict(X_test_pca_best)\n",
    "\n",
    "reverse_price_mapping = {0: 'Alive', 1: 'Dead'}\n",
    "\n",
    "# Map the predictions and actual values using the reverse mapping\n",
    "y_pred_dec = pd.Series(y_pred).map(reverse_price_mapping)\n",
    "y_test_dec = pd.Series(y_test).map(reverse_price_mapping)\n",
    "\n",
    "# Detailed classification report\n",
    "print(\"Classification Report:\")\n",
    "print(classification_report(y_test_dec, y_pred_dec))"
   ]
  },
  {
   "cell_type": "code",
   "execution_count": null,
   "metadata": {},
   "outputs": [],
   "source": [
    "classes = y_test_dec.unique()\n",
    "\n",
    "# Confusion Matrix\n",
    "conf_matrix = confusion_matrix(y_test_dec, y_pred_dec, labels=classes)\n",
    "\n",
    "plt.figure(figsize=(10, 7))\n",
    "sns.heatmap(conf_matrix, annot=True, fmt='d', cmap='Blues', xticklabels=classes, yticklabels=classes)\n",
    "plt.xlabel('Predicted')\n",
    "plt.ylabel('True')\n",
    "#plt.savefig('/content/drive/MyDrive/ML_Project/conf_matrix.png')\n",
    "plt.show()"
   ]
  }
 ],
 "metadata": {
  "kernelspec": {
   "display_name": "myenv",
   "language": "python",
   "name": "python3"
  },
  "language_info": {
   "name": "python",
   "version": "3.11.10"
  }
 },
 "nbformat": 4,
 "nbformat_minor": 2
}
